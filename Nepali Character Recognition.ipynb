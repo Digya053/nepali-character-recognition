{
 "cells": [
  {
   "cell_type": "markdown",
   "metadata": {},
   "source": [
    "# Import libraries"
   ]
  },
  {
   "cell_type": "code",
   "execution_count": 1,
   "metadata": {},
   "outputs": [],
   "source": [
    "import os\n",
    "\n",
    "import cv2\n",
    "import numpy as np\n",
    "import matplotlib.pyplot as plt\n",
    "\n",
    "from tqdm import tqdm\n",
    "\n",
    "%matplotlib inline"
   ]
  },
  {
   "cell_type": "markdown",
   "metadata": {},
   "source": [
    "# Set random seed"
   ]
  },
  {
   "cell_type": "code",
   "execution_count": 2,
   "metadata": {},
   "outputs": [],
   "source": [
    "import numpy as np\n",
    "np.random.seed(1)"
   ]
  },
  {
   "cell_type": "markdown",
   "metadata": {},
   "source": [
    "# Load the data"
   ]
  },
  {
   "cell_type": "code",
   "execution_count": 3,
   "metadata": {},
   "outputs": [],
   "source": [
    "DATADIR = \"./consonants\"\n",
    "CATEGORIES = [\"क\",\"ख\",\"ग\",\"घ\",\"ङ\",\"च\",\"छ\",\"ज\",\"झ\",\"ञ\",\"ट\",\"ठ\",\"ड\",\"ढ\",\"ण\",\"त\",\"थ\",\"द\",\"ध\",\"न\",\"प\",\"फ\",\"ब\",\"भ\",\"म\",\"य\",\"र\",\"ल\",\"व\",\"श\",\"ष\",\"स\",\"ह\",\"क्ष\",\"त्र\",\"ज्ञ\"]\n",
    "IMG_SIZE = 30\n",
    "data = []\n",
    "\n",
    "def create_data():\n",
    "    for category in CATEGORIES: \n",
    "\n",
    "        path = os.path.join(DATADIR,category) \n",
    "        class_num = CATEGORIES.index(category) \n",
    "\n",
    "        for img in tqdm(os.listdir(path)):\n",
    "            try:\n",
    "                img_array = cv2.imread(os.path.join(path,img) ,cv2.IMREAD_GRAYSCALE)  \n",
    "                new_array = cv2.resize(img_array, (IMG_SIZE, IMG_SIZE)) \n",
    "                data.append([new_array, category]) \n",
    "            except Exception as e: \n",
    "                pass"
   ]
  },
  {
   "cell_type": "code",
   "execution_count": 4,
   "metadata": {},
   "outputs": [
    {
     "name": "stderr",
     "output_type": "stream",
     "text": [
      "100%|██████████| 205/205 [00:00<00:00, 15225.01it/s]\n",
      "100%|██████████| 205/205 [00:00<00:00, 7500.94it/s]\n",
      "100%|██████████| 205/205 [00:00<00:00, 19248.97it/s]\n",
      "100%|██████████| 205/205 [00:00<00:00, 24317.21it/s]\n",
      "100%|██████████| 205/205 [00:00<00:00, 24029.07it/s]\n",
      "100%|██████████| 205/205 [00:00<00:00, 25404.25it/s]\n",
      "100%|██████████| 205/205 [00:00<00:00, 24829.12it/s]\n",
      "100%|██████████| 205/205 [00:00<00:00, 24554.71it/s]\n",
      "100%|██████████| 205/205 [00:00<00:00, 23667.28it/s]\n",
      "100%|██████████| 205/205 [00:00<00:00, 21264.56it/s]\n",
      "100%|██████████| 205/205 [00:00<00:00, 24584.90it/s]\n",
      "100%|██████████| 205/205 [00:00<00:00, 25064.34it/s]\n",
      "100%|██████████| 205/205 [00:00<00:00, 24183.16it/s]\n",
      "100%|██████████| 205/205 [00:00<00:00, 24297.97it/s]\n",
      "100%|██████████| 205/205 [00:00<00:00, 25409.51it/s]\n",
      "100%|██████████| 205/205 [00:00<00:00, 24872.93it/s]\n",
      "100%|██████████| 205/205 [00:00<00:00, 25637.56it/s]\n",
      "100%|██████████| 205/205 [00:00<00:00, 25493.13it/s]\n",
      "100%|██████████| 205/205 [00:00<00:00, 24631.38it/s]\n",
      "100%|██████████| 205/205 [00:00<00:00, 25076.77it/s]\n",
      "100%|██████████| 205/205 [00:00<00:00, 24664.59it/s]\n",
      "100%|██████████| 205/205 [00:00<00:00, 23284.02it/s]\n",
      "100%|██████████| 205/205 [00:00<00:00, 25570.46it/s]\n",
      "100%|██████████| 205/205 [00:00<00:00, 23451.04it/s]\n",
      "100%|██████████| 205/205 [00:00<00:00, 24893.81it/s]\n",
      "100%|██████████| 205/205 [00:00<00:00, 24624.33it/s]\n",
      "100%|██████████| 205/205 [00:00<00:00, 22684.47it/s]\n",
      "100%|██████████| 205/205 [00:00<00:00, 24197.45it/s]\n",
      "100%|██████████| 205/205 [00:00<00:00, 24924.12it/s]\n",
      "100%|██████████| 205/205 [00:00<00:00, 22439.38it/s]\n",
      "100%|██████████| 205/205 [00:00<00:00, 20313.56it/s]\n",
      "100%|██████████| 205/205 [00:00<00:00, 24384.80it/s]\n",
      "100%|██████████| 205/205 [00:00<00:00, 23831.93it/s]\n",
      "100%|██████████| 205/205 [00:00<00:00, 23128.69it/s]\n",
      "100%|██████████| 205/205 [00:00<00:00, 24902.47it/s]\n",
      "100%|██████████| 205/205 [00:00<00:00, 17166.09it/s]\n"
     ]
    }
   ],
   "source": [
    "create_data()"
   ]
  },
  {
   "cell_type": "markdown",
   "metadata": {},
   "source": [
    "# Assign features and labels"
   ]
  },
  {
   "cell_type": "code",
   "execution_count": 5,
   "metadata": {},
   "outputs": [],
   "source": [
    "X = []\n",
    "y = []\n",
    "for features,label in data:\n",
    "    X.append(features)\n",
    "    y.append(label)\n",
    "    \n",
    "X = np.array(X).reshape(-1, IMG_SIZE, IMG_SIZE, 1).astype('float32')/255"
   ]
  },
  {
   "cell_type": "markdown",
   "metadata": {},
   "source": [
    "# Convert target to one hot encoded vector"
   ]
  },
  {
   "cell_type": "code",
   "execution_count": null,
   "metadata": {},
   "outputs": [],
   "source": [
    "from keras.utils import np_utils\n",
    "from sklearn.preprocessing import LabelEncoder\n",
    "\n",
    "encoder = LabelEncoder()\n",
    "encoder.fit(y)\n",
    "encoded_y_train = encoder.transform(y)\n",
    "Y = np_utils.to_categorical(encoded_y_train)"
   ]
  },
  {
   "cell_type": "markdown",
   "metadata": {},
   "source": [
    "# Split the data"
   ]
  },
  {
   "cell_type": "code",
   "execution_count": 7,
   "metadata": {},
   "outputs": [],
   "source": [
    "from sklearn.model_selection import train_test_split\n",
    "X_train, X_test, y_train, y_test = train_test_split(X, Y, test_size=0.3, shuffle=True, stratify=y, random_state=2019)"
   ]
  },
  {
   "cell_type": "markdown",
   "metadata": {},
   "source": [
    "# Create the model"
   ]
  },
  {
   "cell_type": "code",
   "execution_count": 8,
   "metadata": {},
   "outputs": [
    {
     "name": "stdout",
     "output_type": "stream",
     "text": [
      "_________________________________________________________________\n",
      "Layer (type)                 Output Shape              Param #   \n",
      "=================================================================\n",
      "conv2d_1 (Conv2D)            (None, 26, 26, 30)        780       \n",
      "_________________________________________________________________\n",
      "batch_normalization_1 (Batch (None, 26, 26, 30)        120       \n",
      "_________________________________________________________________\n",
      "max_pooling2d_1 (MaxPooling2 (None, 13, 13, 30)        0         \n",
      "_________________________________________________________________\n",
      "conv2d_2 (Conv2D)            (None, 11, 11, 15)        4065      \n",
      "_________________________________________________________________\n",
      "max_pooling2d_2 (MaxPooling2 (None, 5, 5, 15)          0         \n",
      "_________________________________________________________________\n",
      "dropout_1 (Dropout)          (None, 5, 5, 15)          0         \n",
      "_________________________________________________________________\n",
      "flatten_1 (Flatten)          (None, 375)               0         \n",
      "_________________________________________________________________\n",
      "dense_1 (Dense)              (None, 128)               48128     \n",
      "_________________________________________________________________\n",
      "dropout_2 (Dropout)          (None, 128)               0         \n",
      "_________________________________________________________________\n",
      "dense_2 (Dense)              (None, 36)                4644      \n",
      "=================================================================\n",
      "Total params: 57,737\n",
      "Trainable params: 57,677\n",
      "Non-trainable params: 60\n",
      "_________________________________________________________________\n"
     ]
    }
   ],
   "source": [
    "from keras.models import Sequential\n",
    "from keras.layers import Dense, Dropout, Flatten\n",
    "from keras.layers import Conv2D, MaxPooling2D, BatchNormalization\n",
    "\n",
    "model = Sequential()\n",
    "model.add(Conv2D(30, (5, 5), activation='relu', input_shape=(30,30,1)))\n",
    "model.add(BatchNormalization())\n",
    "model.add(MaxPooling2D(pool_size=(2, 2)))\n",
    "model.add(Conv2D(15, (3, 3), activation='relu'))\n",
    "model.add(MaxPooling2D(pool_size=(2,2)))\n",
    "model.add(Dropout(0.2))\n",
    "model.add(Flatten())\n",
    "model.add(Dense(128, activation='relu'))\n",
    "model.add(Dropout(0.2))\n",
    "model.add(Dense(36, activation='softmax'))\n",
    "\n",
    "model.compile(loss='categorical_crossentropy',\n",
    "             optimizer='adam',metrics=['accuracy'])\n",
    "\n",
    "model.summary()"
   ]
  },
  {
   "cell_type": "markdown",
   "metadata": {},
   "source": [
    "# Setup callback functions"
   ]
  },
  {
   "cell_type": "code",
   "execution_count": 9,
   "metadata": {},
   "outputs": [],
   "source": [
    "checkpoint_path = 'best_model.h5'\n",
    "\n",
    "from keras.callbacks import EarlyStopping, ModelCheckpoint\n",
    "callbacks = [EarlyStopping(monitor='val_loss', patience=2),\n",
    "             ModelCheckpoint(filepath=checkpoint_path, monitor='val_loss', save_best_only=True)]"
   ]
  },
  {
   "cell_type": "markdown",
   "metadata": {},
   "source": [
    "# Model training"
   ]
  },
  {
   "cell_type": "code",
   "execution_count": 10,
   "metadata": {},
   "outputs": [
    {
     "name": "stdout",
     "output_type": "stream",
     "text": [
      "Train on 3874 samples, validate on 1292 samples\n",
      "Epoch 1/50\n",
      "3874/3874 [==============================] - 4s 1ms/step - loss: 3.7457 - acc: 0.0390 - val_loss: 3.4713 - val_acc: 0.0712\n",
      "Epoch 2/50\n",
      "3874/3874 [==============================] - 4s 965us/step - loss: 3.3109 - acc: 0.1156 - val_loss: 3.0792 - val_acc: 0.1741\n",
      "Epoch 3/50\n",
      "3874/3874 [==============================] - 4s 979us/step - loss: 2.8343 - acc: 0.2243 - val_loss: 2.6325 - val_acc: 0.2693\n",
      "Epoch 4/50\n",
      "3874/3874 [==============================] - 4s 965us/step - loss: 2.3463 - acc: 0.3402 - val_loss: 2.0407 - val_acc: 0.4396\n",
      "Epoch 5/50\n",
      "3874/3874 [==============================] - 4s 957us/step - loss: 1.9904 - acc: 0.4254 - val_loss: 1.7655 - val_acc: 0.4969\n",
      "Epoch 6/50\n",
      "3874/3874 [==============================] - 4s 989us/step - loss: 1.7028 - acc: 0.5034 - val_loss: 1.4922 - val_acc: 0.5627\n",
      "Epoch 7/50\n",
      "3874/3874 [==============================] - 4s 959us/step - loss: 1.5284 - acc: 0.5470 - val_loss: 1.3603 - val_acc: 0.5952\n",
      "Epoch 8/50\n",
      "3874/3874 [==============================] - 4s 954us/step - loss: 1.3486 - acc: 0.5950 - val_loss: 1.2104 - val_acc: 0.6385\n",
      "Epoch 9/50\n",
      "3874/3874 [==============================] - 5s 1ms/step - loss: 1.2209 - acc: 0.6335 - val_loss: 1.1006 - val_acc: 0.6726\n",
      "Epoch 10/50\n",
      "3874/3874 [==============================] - 4s 963us/step - loss: 1.1159 - acc: 0.6582 - val_loss: 1.1200 - val_acc: 0.6703\n",
      "Epoch 11/50\n",
      "3874/3874 [==============================] - 4s 1ms/step - loss: 1.0409 - acc: 0.6781 - val_loss: 0.9669 - val_acc: 0.7198\n",
      "Epoch 12/50\n",
      "3874/3874 [==============================] - 4s 1ms/step - loss: 0.9721 - acc: 0.7037 - val_loss: 0.9555 - val_acc: 0.7121\n",
      "Epoch 13/50\n",
      "3874/3874 [==============================] - 4s 1ms/step - loss: 0.8993 - acc: 0.7246 - val_loss: 1.0760 - val_acc: 0.6858\n",
      "Epoch 14/50\n",
      "3874/3874 [==============================] - 4s 984us/step - loss: 0.7886 - acc: 0.7571 - val_loss: 0.8019 - val_acc: 0.7562\n",
      "Epoch 15/50\n",
      "3874/3874 [==============================] - 4s 1ms/step - loss: 0.7872 - acc: 0.7488 - val_loss: 0.8409 - val_acc: 0.7461\n",
      "Epoch 16/50\n",
      "3874/3874 [==============================] - 4s 1ms/step - loss: 0.7333 - acc: 0.7790 - val_loss: 0.7440 - val_acc: 0.7779\n",
      "Epoch 17/50\n",
      "3874/3874 [==============================] - 5s 1ms/step - loss: 0.6711 - acc: 0.7912 - val_loss: 0.7027 - val_acc: 0.7933\n",
      "Epoch 18/50\n",
      "3874/3874 [==============================] - 5s 1ms/step - loss: 0.6505 - acc: 0.8007 - val_loss: 0.7040 - val_acc: 0.7910\n",
      "Epoch 19/50\n",
      "3874/3874 [==============================] - 4s 1ms/step - loss: 0.6044 - acc: 0.8056 - val_loss: 0.6925 - val_acc: 0.7988\n",
      "Epoch 20/50\n",
      "3874/3874 [==============================] - 5s 1ms/step - loss: 0.5607 - acc: 0.8170 - val_loss: 0.6276 - val_acc: 0.8259\n",
      "Epoch 21/50\n",
      "3874/3874 [==============================] - 5s 1ms/step - loss: 0.5681 - acc: 0.8108 - val_loss: 0.6750 - val_acc: 0.7972\n",
      "Epoch 22/50\n",
      "3874/3874 [==============================] - 6s 1ms/step - loss: 0.5509 - acc: 0.8237 - val_loss: 0.6628 - val_acc: 0.8096\n"
     ]
    },
    {
     "data": {
      "image/png": "[encoded data removed]",
      "text/plain": [
       "<Figure size 432x288 with 1 Axes>"
      ]
     },
     "metadata": {},
     "output_type": "display_data"
    }
   ],
   "source": [
    "history = model.fit(X_train, y_train,\n",
    "                    validation_split=0.25,\n",
    "                    epochs=50,\n",
    "                    batch_size=200,\n",
    "                    verbose=1, callbacks=callbacks)\n",
    "def plot(history):\n",
    "    \"\"\" Plots model loss from model train history\"\"\"\n",
    "    plt.plot(history.history['loss'])\n",
    "    plt.plot(history.history['val_loss'])\n",
    "    plt.title('model loss')\n",
    "    plt.ylabel('loss')\n",
    "    plt.xlabel('epoch')\n",
    "    plt.legend(['train', 'test'], loc='upper right')\n",
    "    plt.show()\n",
    "\n",
    "plot(history)"
   ]
  },
  {
   "cell_type": "markdown",
   "metadata": {},
   "source": [
    "# Evaluation of model"
   ]
  },
  {
   "cell_type": "code",
   "execution_count": 12,
   "metadata": {},
   "outputs": [
    {
     "name": "stdout",
     "output_type": "stream",
     "text": [
      "CNN Error: 17.57%\n",
      "Loss: 0.61\n",
      "Accuracy: 82.43%\n"
     ]
    }
   ],
   "source": [
    "model.load_weights(checkpoint_path)\n",
    "\n",
    "score = model.evaluate(X_test, y_test, verbose=0)\n",
    "print(\"CNN Error: %.2f%%\" % (100-score[1]*100))\n",
    "print(\"Loss: %.2f\" % score[0])\n",
    "print(\"Accuracy: %.2f%%\" % (score[1]*100))"
   ]
  },
  {
   "cell_type": "markdown",
   "metadata": {},
   "source": [
    "The model displays an accuracy of 82.43% in the test set and 80.96% in the validation set."
   ]
  }
 ],
 "metadata": {
  "kernelspec": {
   "display_name": "Python 3",
   "language": "python",
   "name": "python3"
  },
  "language_info": {
   "codemirror_mode": {
    "name": "ipython",
    "version": 3
   },
   "file_extension": ".py",
   "mimetype": "text/x-python",
   "name": "python",
   "nbconvert_exporter": "python",
   "pygments_lexer": "ipython3",
   "version": "3.6.5"
  }
 },
 "nbformat": 4,
 "nbformat_minor": 2
}
